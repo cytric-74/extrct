{
  "nbformat": 4,
  "nbformat_minor": 0,
  "metadata": {
    "colab": {
      "provenance": [],
      "authorship_tag": "ABX9TyPFBKqMzU4tfkQXQ31NFN0v"
    },
    "kernelspec": {
      "name": "python3",
      "display_name": "Python 3"
    },
    "language_info": {
      "name": "python"
    }
  },
  "cells": [
    {
      "cell_type": "code",
      "source": [
        "!pip install tldextract python-whois yfinance"
      ],
      "metadata": {
        "colab": {
          "base_uri": "https://localhost:8080/"
        },
        "id": "CmClEsP1U9Qf",
        "outputId": "9f247f13-6b2f-4b3f-dd3b-c51aa9c910c1"
      },
      "execution_count": 53,
      "outputs": [
        {
          "output_type": "stream",
          "name": "stdout",
          "text": [
            "Requirement already satisfied: tldextract in /usr/local/lib/python3.11/dist-packages (5.3.0)\n",
            "Requirement already satisfied: python-whois in /usr/local/lib/python3.11/dist-packages (0.9.5)\n",
            "Requirement already satisfied: yfinance in /usr/local/lib/python3.11/dist-packages (0.2.61)\n",
            "Requirement already satisfied: idna in /usr/local/lib/python3.11/dist-packages (from tldextract) (3.10)\n",
            "Requirement already satisfied: requests>=2.1.0 in /usr/local/lib/python3.11/dist-packages (from tldextract) (2.32.3)\n",
            "Requirement already satisfied: requests-file>=1.4 in /usr/local/lib/python3.11/dist-packages (from tldextract) (2.1.0)\n",
            "Requirement already satisfied: filelock>=3.0.8 in /usr/local/lib/python3.11/dist-packages (from tldextract) (3.18.0)\n",
            "Requirement already satisfied: python-dateutil in /usr/local/lib/python3.11/dist-packages (from python-whois) (2.9.0.post0)\n",
            "Requirement already satisfied: pandas>=1.3.0 in /usr/local/lib/python3.11/dist-packages (from yfinance) (2.2.2)\n",
            "Requirement already satisfied: numpy>=1.16.5 in /usr/local/lib/python3.11/dist-packages (from yfinance) (2.0.2)\n",
            "Requirement already satisfied: multitasking>=0.0.7 in /usr/local/lib/python3.11/dist-packages (from yfinance) (0.0.11)\n",
            "Requirement already satisfied: platformdirs>=2.0.0 in /usr/local/lib/python3.11/dist-packages (from yfinance) (4.3.8)\n",
            "Requirement already satisfied: pytz>=2022.5 in /usr/local/lib/python3.11/dist-packages (from yfinance) (2025.2)\n",
            "Requirement already satisfied: frozendict>=2.3.4 in /usr/local/lib/python3.11/dist-packages (from yfinance) (2.4.6)\n",
            "Requirement already satisfied: peewee>=3.16.2 in /usr/local/lib/python3.11/dist-packages (from yfinance) (3.18.1)\n",
            "Requirement already satisfied: beautifulsoup4>=4.11.1 in /usr/local/lib/python3.11/dist-packages (from yfinance) (4.13.4)\n",
            "Requirement already satisfied: curl_cffi>=0.7 in /usr/local/lib/python3.11/dist-packages (from yfinance) (0.11.1)\n",
            "Requirement already satisfied: protobuf>=3.19.0 in /usr/local/lib/python3.11/dist-packages (from yfinance) (5.29.5)\n",
            "Requirement already satisfied: websockets>=13.0 in /usr/local/lib/python3.11/dist-packages (from yfinance) (15.0.1)\n",
            "Requirement already satisfied: soupsieve>1.2 in /usr/local/lib/python3.11/dist-packages (from beautifulsoup4>=4.11.1->yfinance) (2.7)\n",
            "Requirement already satisfied: typing-extensions>=4.0.0 in /usr/local/lib/python3.11/dist-packages (from beautifulsoup4>=4.11.1->yfinance) (4.13.2)\n",
            "Requirement already satisfied: cffi>=1.12.0 in /usr/local/lib/python3.11/dist-packages (from curl_cffi>=0.7->yfinance) (1.17.1)\n",
            "Requirement already satisfied: certifi>=2024.2.2 in /usr/local/lib/python3.11/dist-packages (from curl_cffi>=0.7->yfinance) (2025.4.26)\n",
            "Requirement already satisfied: tzdata>=2022.7 in /usr/local/lib/python3.11/dist-packages (from pandas>=1.3.0->yfinance) (2025.2)\n",
            "Requirement already satisfied: six>=1.5 in /usr/local/lib/python3.11/dist-packages (from python-dateutil->python-whois) (1.17.0)\n",
            "Requirement already satisfied: charset-normalizer<4,>=2 in /usr/local/lib/python3.11/dist-packages (from requests>=2.1.0->tldextract) (3.4.2)\n",
            "Requirement already satisfied: urllib3<3,>=1.21.1 in /usr/local/lib/python3.11/dist-packages (from requests>=2.1.0->tldextract) (2.4.0)\n",
            "Requirement already satisfied: pycparser in /usr/local/lib/python3.11/dist-packages (from cffi>=1.12.0->curl_cffi>=0.7->yfinance) (2.22)\n"
          ]
        }
      ]
    },
    {
      "cell_type": "code",
      "execution_count": 54,
      "metadata": {
        "id": "4e-Nq2TUUsob"
      },
      "outputs": [],
      "source": [
        "import pandas as pd\n",
        "import whois\n",
        "import tldextract\n",
        "import requests\n",
        "import time\n",
        "import re\n",
        "import urllib.parse"
      ]
    },
    {
      "cell_type": "code",
      "source": [
        "df = pd.read_csv('/content/websites.csv')"
      ],
      "metadata": {
        "id": "Il6VSqAuVITt"
      },
      "execution_count": 55,
      "outputs": []
    },
    {
      "cell_type": "code",
      "source": [
        "def get_company_name_from_whois(domain):\n",
        "    try:\n",
        "        w = whois.whois(domain + \".com\")\n",
        "        name = w.org or w.name\n",
        "        if not name or \"not disclosed\" in name.lower():\n",
        "            return domain.capitalize()\n",
        "        return name\n",
        "    except:\n",
        "        return domain.capitalize()\n",
        "\n",
        "# for ticker search\n",
        "def clean_company_name(name):\n",
        "    return (\n",
        "        name.replace(\"Inc.\", \"\")\n",
        "            .replace(\"Corporation\", \"\")\n",
        "            .replace(\"Ltd.\", \"\")\n",
        "            .replace(\"LLC\", \"\")\n",
        "            .replace(\",\", \"\")\n",
        "            .strip()\n",
        "    )\n"
      ],
      "metadata": {
        "id": "5KiDL5gEmgeC"
      },
      "execution_count": 56,
      "outputs": []
    },
    {
      "cell_type": "code",
      "source": [
        "# guessing for fallback name searches\n",
        "def generate_guess_names(domain):\n",
        "    base = domain.capitalize()\n",
        "    return [\n",
        "        base,\n",
        "        base + \" Inc.\",\n",
        "        base + \" Corporation\",\n",
        "        base + \" Technologies\",\n",
        "        base + \" Ltd\",\n",
        "        base + \" Systems\",\n",
        "    ]"
      ],
      "metadata": {
        "id": "xK-SSxX6mluj"
      },
      "execution_count": 67,
      "outputs": []
    },
    {
      "cell_type": "code",
      "source": [
        "# try to find the data from yfinance api from yahoo search, if that fails then trying to attempt to guess the company name for advance searching\n",
        "headers = {\n",
        "    \"User-Agent\": \"Mozilla/5.0\"\n",
        "}\n",
        "\n",
        "def get_ticker(company_name, domain=None):\n",
        "    try:\n",
        "        search_terms = [clean_company_name(company_name)]\n",
        "\n",
        "        # If WHOIS fails then we guess the names from domain\n",
        "        if domain:\n",
        "            search_terms += generate_guess_names(domain)\n",
        "\n",
        "        for term in search_terms:\n",
        "            if not term:\n",
        "                continue\n",
        "            encoded = urllib.parse.quote(term)\n",
        "            url = f\"https://query1.finance.yahoo.com/v1/finance/search?q={encoded}\"\n",
        "            response = requests.get(url, headers=headers, timeout=5)\n",
        "            data = response.json()\n",
        "\n",
        "            for item in data.get(\"quotes\", []):\n",
        "                if item.get(\"quoteType\") == \"EQUITY\":\n",
        "                    full = (item.get(\"shortname\", \"\") + item.get(\"longname\", \"\")).lower()\n",
        "                    if term.lower() in full:\n",
        "                        return item.get(\"symbol\")\n",
        "\n",
        "            # Fallback: return first EQUITY result\n",
        "            for item in data.get(\"quotes\", []):\n",
        "                if item.get(\"quoteType\") == \"EQUITY\":\n",
        "                    return item.get(\"symbol\")\n",
        "\n",
        "        return \"\"\n",
        "    except Exception as e:\n",
        "        print(f\"Error getting ticker for {company_name}: {e}\")\n",
        "        return \"\""
      ],
      "metadata": {
        "id": "CBQO5bcPnV6E"
      },
      "execution_count": 59,
      "outputs": []
    },
    {
      "cell_type": "code",
      "source": [
        "#caching for duplications\n",
        "whois_cache = {}\n",
        "\n",
        "def safe_whois_lookup(domain):\n",
        "    if domain in whois_cache:\n",
        "        return whois_cache[domain]\n",
        "    name = get_company_name_from_whois(domain)\n",
        "    whois_cache[domain] = name\n",
        "    time.sleep(1)\n",
        "    return name"
      ],
      "metadata": {
        "id": "2CF1ffFannsM"
      },
      "execution_count": 73,
      "outputs": []
    },
    {
      "cell_type": "code",
      "source": [
        "df[\"DOMAIN\"] = df[\"URL\"].apply(lambda url: tldextract.extract(url).domain)\n",
        "df[\"NAME\"] = df[\"DOMAIN\"].apply(safe_whois_lookup)"
      ],
      "metadata": {
        "id": "blrEe2uenunc"
      },
      "execution_count": 70,
      "outputs": []
    },
    {
      "cell_type": "code",
      "source": [
        "df[\"CLEANED_NAME\"] = df[\"NAME\"].apply(clean_company_name)"
      ],
      "metadata": {
        "id": "wanR5qdGnxfx"
      },
      "execution_count": 71,
      "outputs": []
    },
    {
      "cell_type": "code",
      "source": [
        "#ticker caching\n",
        "\n",
        "ticker_cache = {}\n",
        "\n",
        "def safe_ticker_lookup(row):\n",
        "    name = row[\"CLEANED_NAME\"]\n",
        "    domain = row[\"DOMAIN\"]\n",
        "    if name in ticker_cache:\n",
        "        return ticker_cache[name]\n",
        "    ticker = get_ticker(name, domain=domain)\n",
        "    ticker_cache[name] = ticker\n",
        "    time.sleep(1)\n",
        "    return ticker"
      ],
      "metadata": {
        "id": "bvRqfON8n02k"
      },
      "execution_count": 72,
      "outputs": []
    },
    {
      "cell_type": "code",
      "source": [
        "df[\"TICKER\"] = df.apply(safe_ticker_lookup, axis=1)"
      ],
      "metadata": {
        "id": "_vvgyrpFn8Oc"
      },
      "execution_count": 65,
      "outputs": []
    },
    {
      "cell_type": "code",
      "source": [
        "df.to_csv(\"extraction.csv\", index=False)\n",
        "print(\"an Extraction file is saved!!\")"
      ],
      "metadata": {
        "colab": {
          "base_uri": "https://localhost:8080/"
        },
        "id": "OsBX-NSMn81T",
        "outputId": "c5b1c7ca-ebf9-45df-f0bf-c7d62039b081"
      },
      "execution_count": 66,
      "outputs": [
        {
          "output_type": "stream",
          "name": "stdout",
          "text": [
            "an Extraction file is saved!!\n"
          ]
        }
      ]
    }
  ]
}